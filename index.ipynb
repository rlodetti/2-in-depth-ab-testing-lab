{
 "cells": [
  {
   "cell_type": "markdown",
   "metadata": {},
   "source": [
    "# In Depth A/B Testing - Lab\n",
    "\n",
    "## Introduction\n",
    "\n",
    "In this lab, you'll explore a survey from Kaggle regarding budding data scientists. With this, you'll form some initial hypotheses, and test them using the tools you've acquired to date. \n",
    "\n",
    "## Objectives\n",
    "\n",
    "You will be able to:\n",
    "\n",
    "* Conduct t-tests and an ANOVA on a real-world dataset and interpret the results"
   ]
  },
  {
   "cell_type": "markdown",
   "metadata": {},
   "source": [
    "## Load the Dataset and Perform a Brief Exploration\n",
    "\n",
    "The data is stored in a file called **multipleChoiceResponses_cleaned.csv**. Feel free to check out the original dataset referenced at the bottom of this lab, although this cleaned version will undoubtedly be easier to work with. Additionally, meta-data regarding the questions is stored in a file name **schema.csv**. Load in the data itself as a Pandas DataFrame, and take a moment to briefly get acquainted with it.\n",
    "\n",
    "> Note: If you can't get the file to load properly, try changing the encoding format as in `encoding='latin1'`"
   ]
  },
  {
   "cell_type": "code",
   "execution_count": 1,
   "metadata": {
    "ExecuteTime": {
     "end_time": "2023-05-05T13:26:56.415657Z",
     "start_time": "2023-05-05T13:26:55.085312Z"
    }
   },
   "outputs": [],
   "source": [
    "import numpy as np\n",
    "import pandas as pd\n",
    "import matplotlib.pyplot as plt\n",
    "from scipy import stats\n",
    "import seaborn as sns"
   ]
  },
  {
   "cell_type": "code",
   "execution_count": 2,
   "metadata": {
    "ExecuteTime": {
     "end_time": "2023-05-05T13:26:56.958299Z",
     "start_time": "2023-05-05T13:26:56.420117Z"
    }
   },
   "outputs": [],
   "source": [
    "df = pd.read_csv('multipleChoiceResponses_cleaned.csv', low_memory=False, lineterminator='\\n')\n"
   ]
  },
  {
   "cell_type": "markdown",
   "metadata": {},
   "source": [
    "## Wages and Education\n",
    "\n",
    "You've been asked to determine whether education is impactful to salary. Develop a hypothesis test to compare the salaries of those with Master's degrees to those with Bachelor's degrees. Are the two statistically different according to your results?\n",
    "\n",
    "> Note: The relevant features are stored in the 'FormalEducation' and 'AdjustedCompensation' features.\n",
    "\n",
    "You may import the functions stored in the `flatiron_stats.py` file to help perform your hypothesis tests. It contains the stats functions that you previously coded: `welch_t(a,b)`, `welch_df(a, b)`, and `p_value(a, b, two_sided=False)`. \n",
    "\n",
    "Note that `scipy.stats.ttest_ind(a, b, equal_var=False)` performs a two-sided Welch's t-test and that p-values derived from two-sided tests are two times the p-values derived from one-sided tests. See the [documentation](https://docs.scipy.org/doc/scipy/reference/generated/scipy.stats.ttest_ind.html) for more information.    "
   ]
  },
  {
   "cell_type": "code",
   "execution_count": 3,
   "metadata": {
    "ExecuteTime": {
     "end_time": "2023-05-05T13:26:56.969169Z",
     "start_time": "2023-05-05T13:26:56.960913Z"
    }
   },
   "outputs": [],
   "source": [
    "ed_inc = df[['FormalEducation','AdjustedCompensation']].dropna()"
   ]
  },
  {
   "cell_type": "code",
   "execution_count": 4,
   "metadata": {
    "ExecuteTime": {
     "end_time": "2023-05-05T13:26:56.980245Z",
     "start_time": "2023-05-05T13:26:56.971346Z"
    }
   },
   "outputs": [
    {
     "name": "stdout",
     "output_type": "stream",
     "text": [
      "<class 'pandas.core.frame.DataFrame'>\n",
      "Int64Index: 4372 entries, 3 to 16700\n",
      "Data columns (total 2 columns):\n",
      " #   Column                Non-Null Count  Dtype  \n",
      "---  ------                --------------  -----  \n",
      " 0   FormalEducation       4372 non-null   object \n",
      " 1   AdjustedCompensation  4372 non-null   float64\n",
      "dtypes: float64(1), object(1)\n",
      "memory usage: 102.5+ KB\n"
     ]
    }
   ],
   "source": [
    "ed_inc.info()"
   ]
  },
  {
   "cell_type": "code",
   "execution_count": 5,
   "metadata": {
    "ExecuteTime": {
     "end_time": "2023-05-05T13:26:56.991812Z",
     "start_time": "2023-05-05T13:26:56.982633Z"
    },
    "scrolled": true
   },
   "outputs": [
    {
     "data": {
      "text/html": [
       "<div>\n",
       "<style scoped>\n",
       "    .dataframe tbody tr th:only-of-type {\n",
       "        vertical-align: middle;\n",
       "    }\n",
       "\n",
       "    .dataframe tbody tr th {\n",
       "        vertical-align: top;\n",
       "    }\n",
       "\n",
       "    .dataframe thead th {\n",
       "        text-align: right;\n",
       "    }\n",
       "</style>\n",
       "<table border=\"1\" class=\"dataframe\">\n",
       "  <thead>\n",
       "    <tr style=\"text-align: right;\">\n",
       "      <th></th>\n",
       "      <th>FormalEducation</th>\n",
       "      <th>AdjustedCompensation</th>\n",
       "    </tr>\n",
       "  </thead>\n",
       "  <tbody>\n",
       "    <tr>\n",
       "      <th>3</th>\n",
       "      <td>Master's degree</td>\n",
       "      <td>250000.0</td>\n",
       "    </tr>\n",
       "    <tr>\n",
       "      <th>8</th>\n",
       "      <td>Bachelor's degree</td>\n",
       "      <td>64184.8</td>\n",
       "    </tr>\n",
       "    <tr>\n",
       "      <th>9</th>\n",
       "      <td>Bachelor's degree</td>\n",
       "      <td>20882.4</td>\n",
       "    </tr>\n",
       "    <tr>\n",
       "      <th>11</th>\n",
       "      <td>Bachelor's degree</td>\n",
       "      <td>1483.9</td>\n",
       "    </tr>\n",
       "    <tr>\n",
       "      <th>14</th>\n",
       "      <td>Master's degree</td>\n",
       "      <td>36634.4</td>\n",
       "    </tr>\n",
       "  </tbody>\n",
       "</table>\n",
       "</div>"
      ],
      "text/plain": [
       "      FormalEducation  AdjustedCompensation\n",
       "3     Master's degree              250000.0\n",
       "8   Bachelor's degree               64184.8\n",
       "9   Bachelor's degree               20882.4\n",
       "11  Bachelor's degree                1483.9\n",
       "14    Master's degree               36634.4"
      ]
     },
     "execution_count": 5,
     "metadata": {},
     "output_type": "execute_result"
    }
   ],
   "source": [
    "ed_inc.head()"
   ]
  },
  {
   "cell_type": "code",
   "execution_count": 6,
   "metadata": {
    "ExecuteTime": {
     "end_time": "2023-05-05T13:26:56.998312Z",
     "start_time": "2023-05-05T13:26:56.993421Z"
    }
   },
   "outputs": [
    {
     "data": {
      "text/plain": [
       "Master's degree                                                      2006\n",
       "Bachelor's degree                                                    1110\n",
       "Doctoral degree                                                       976\n",
       "Professional degree                                                   131\n",
       "Some college/university study without earning a bachelor's degree     112\n",
       "I did not complete any formal education past high school               30\n",
       "I prefer not to answer                                                  7\n",
       "Name: FormalEducation, dtype: int64"
      ]
     },
     "execution_count": 6,
     "metadata": {},
     "output_type": "execute_result"
    }
   ],
   "source": [
    "ed_inc['FormalEducation'].value_counts()"
   ]
  },
  {
   "cell_type": "code",
   "execution_count": 7,
   "metadata": {
    "ExecuteTime": {
     "end_time": "2023-05-05T13:26:57.016046Z",
     "start_time": "2023-05-05T13:26:57.008753Z"
    }
   },
   "outputs": [
    {
     "data": {
      "text/plain": [
       "count    4.372000e+03\n",
       "mean     6.592544e+06\n",
       "std      4.279731e+08\n",
       "min     -7.351631e+01\n",
       "25%      2.049480e+04\n",
       "50%      5.381217e+04\n",
       "75%      9.566608e+04\n",
       "max      2.829740e+10\n",
       "Name: AdjustedCompensation, dtype: float64"
      ]
     },
     "execution_count": 7,
     "metadata": {},
     "output_type": "execute_result"
    }
   ],
   "source": [
    "ed_inc['AdjustedCompensation'].describe()"
   ]
  },
  {
   "cell_type": "code",
   "execution_count": 8,
   "metadata": {
    "ExecuteTime": {
     "end_time": "2023-05-05T13:26:57.023243Z",
     "start_time": "2023-05-05T13:26:57.017907Z"
    }
   },
   "outputs": [
    {
     "data": {
      "text/plain": [
       "53812.17000000001"
      ]
     },
     "execution_count": 8,
     "metadata": {},
     "output_type": "execute_result"
    }
   ],
   "source": [
    "ed_inc['AdjustedCompensation'].median()"
   ]
  },
  {
   "cell_type": "code",
   "execution_count": 9,
   "metadata": {
    "ExecuteTime": {
     "end_time": "2023-05-05T13:26:57.031702Z",
     "start_time": "2023-05-05T13:26:57.026225Z"
    }
   },
   "outputs": [],
   "source": [
    "df_clean = ed_inc[(ed_inc['AdjustedCompensation'] < 1000000)\n",
    "                  & (ed_inc['AdjustedCompensation'] >= 0)\n",
    "                  & ((ed_inc['FormalEducation'] == \"Master's degree\")\n",
    "                     | (ed_inc['FormalEducation'] == \"Bachelor's degree\")\n",
    "                     | (ed_inc['FormalEducation']\n",
    "                        == \"Doctoral degree\"))].reset_index(drop=True)"
   ]
  },
  {
   "cell_type": "code",
   "execution_count": 10,
   "metadata": {
    "ExecuteTime": {
     "end_time": "2023-05-05T13:26:57.043713Z",
     "start_time": "2023-05-05T13:26:57.033415Z"
    }
   },
   "outputs": [
    {
     "name": "stdout",
     "output_type": "stream",
     "text": [
      "<class 'pandas.core.frame.DataFrame'>\n",
      "RangeIndex: 4081 entries, 0 to 4080\n",
      "Data columns (total 2 columns):\n",
      " #   Column                Non-Null Count  Dtype  \n",
      "---  ------                --------------  -----  \n",
      " 0   FormalEducation       4081 non-null   object \n",
      " 1   AdjustedCompensation  4081 non-null   float64\n",
      "dtypes: float64(1), object(1)\n",
      "memory usage: 63.9+ KB\n"
     ]
    }
   ],
   "source": [
    "df_clean.info()"
   ]
  },
  {
   "cell_type": "code",
   "execution_count": 11,
   "metadata": {
    "ExecuteTime": {
     "end_time": "2023-05-05T13:26:57.049420Z",
     "start_time": "2023-05-05T13:26:57.045549Z"
    }
   },
   "outputs": [
    {
     "data": {
      "text/plain": [
       "'\\nMetrics: FormalEducation (Categorical) and AdjustedCompensation \\n(Numerical)\\n\\nH_o = There is no significant difference in income based on education \\nlevel.\\nH_a = There is a significant difference in income based on education \\nlevel.\\n\\nTest: Because we are comparing between between three categories\\nI will conduct an ANOVA test.\\n\\nalpha = 0.05\\n'"
      ]
     },
     "execution_count": 11,
     "metadata": {},
     "output_type": "execute_result"
    }
   ],
   "source": [
    "\"\"\"\n",
    "Metrics: FormalEducation (Categorical) and AdjustedCompensation \n",
    "(Numerical)\n",
    "\n",
    "H_o = There is no significant difference in income based on education \n",
    "level.\n",
    "H_a = There is a significant difference in income based on education \n",
    "level.\n",
    "\n",
    "Test: Because we are comparing between between three categories\n",
    "I will conduct an ANOVA test.\n",
    "\n",
    "alpha = 0.05\n",
    "\"\"\""
   ]
  },
  {
   "cell_type": "code",
   "execution_count": 12,
   "metadata": {
    "ExecuteTime": {
     "end_time": "2023-05-05T13:26:57.061061Z",
     "start_time": "2023-05-05T13:26:57.051148Z"
    }
   },
   "outputs": [
    {
     "data": {
      "text/html": [
       "<div>\n",
       "<style scoped>\n",
       "    .dataframe tbody tr th:only-of-type {\n",
       "        vertical-align: middle;\n",
       "    }\n",
       "\n",
       "    .dataframe tbody tr th {\n",
       "        vertical-align: top;\n",
       "    }\n",
       "\n",
       "    .dataframe thead th {\n",
       "        text-align: right;\n",
       "    }\n",
       "</style>\n",
       "<table border=\"1\" class=\"dataframe\">\n",
       "  <thead>\n",
       "    <tr style=\"text-align: right;\">\n",
       "      <th></th>\n",
       "      <th>AdjustedCompensation</th>\n",
       "    </tr>\n",
       "    <tr>\n",
       "      <th>FormalEducation</th>\n",
       "      <th></th>\n",
       "    </tr>\n",
       "  </thead>\n",
       "  <tbody>\n",
       "    <tr>\n",
       "      <th>Bachelor's degree</th>\n",
       "      <td>54073.441445</td>\n",
       "    </tr>\n",
       "    <tr>\n",
       "      <th>Doctoral degree</th>\n",
       "      <td>86761.997815</td>\n",
       "    </tr>\n",
       "    <tr>\n",
       "      <th>Master's degree</th>\n",
       "      <td>64153.257678</td>\n",
       "    </tr>\n",
       "  </tbody>\n",
       "</table>\n",
       "</div>"
      ],
      "text/plain": [
       "                   AdjustedCompensation\n",
       "FormalEducation                        \n",
       "Bachelor's degree          54073.441445\n",
       "Doctoral degree            86761.997815\n",
       "Master's degree            64153.257678"
      ]
     },
     "execution_count": 12,
     "metadata": {},
     "output_type": "execute_result"
    }
   ],
   "source": [
    "df_clean.groupby('FormalEducation').mean()"
   ]
  },
  {
   "cell_type": "code",
   "execution_count": 13,
   "metadata": {
    "ExecuteTime": {
     "end_time": "2023-05-05T13:26:57.074088Z",
     "start_time": "2023-05-05T13:26:57.062903Z"
    }
   },
   "outputs": [
    {
     "data": {
      "text/plain": [
       "F_onewayResult(statistic=83.35995316548635, pvalue=3.2937908764507496e-36)"
      ]
     },
     "execution_count": 13,
     "metadata": {},
     "output_type": "execute_result"
    }
   ],
   "source": [
    "bach = df_clean[df_clean['FormalEducation']== \"Bachelor's degree\"]['AdjustedCompensation']\n",
    "mast = df_clean[df_clean['FormalEducation']== \"Master's degree\"]['AdjustedCompensation']\n",
    "doc = df_clean[df_clean['FormalEducation']== \"Doctoral degree\"]['AdjustedCompensation']\n",
    "\n",
    "stats.f_oneway(bach, mast, doc)"
   ]
  },
  {
   "cell_type": "code",
   "execution_count": 14,
   "metadata": {
    "ExecuteTime": {
     "end_time": "2023-05-05T13:26:57.080925Z",
     "start_time": "2023-05-05T13:26:57.076435Z"
    }
   },
   "outputs": [
    {
     "data": {
      "text/plain": [
       "Ttest_indResult(statistic=-4.725515975586772, pvalue=2.4365850139260144e-06)"
      ]
     },
     "execution_count": 14,
     "metadata": {},
     "output_type": "execute_result"
    }
   ],
   "source": [
    "# Conducting a t-test becasue the mean of the income of doctoral degrees \n",
    "# is so clearly different\n",
    "stats.ttest_ind(bach,mast,equal_var=False)"
   ]
  },
  {
   "cell_type": "code",
   "execution_count": 15,
   "metadata": {
    "ExecuteTime": {
     "end_time": "2023-05-05T13:26:57.087999Z",
     "start_time": "2023-05-05T13:26:57.084454Z"
    }
   },
   "outputs": [
    {
     "data": {
      "text/plain": [
       "'\\nWe reject the initial null hypothesis as our pvalue of 0.0033 is less \\nthan 0.05. Meaning there is a significant difference. \\n\\nIn my next step I conducted a t-test comparing masters to bachelors \\nincomes and also found a signficant difference with a p-value of about \\n0.000002 \\n\\n'"
      ]
     },
     "execution_count": 15,
     "metadata": {},
     "output_type": "execute_result"
    }
   ],
   "source": [
    "\"\"\"\n",
    "We reject the initial null hypothesis as our pvalue is less \n",
    "than 0.05. Meaning there is a significant difference. \n",
    "\n",
    "In my next step I conducted a t-test comparing masters to bachelors \n",
    "incomes and also found a signficant difference with a p-value of about \n",
    "0.000002 \n",
    "\n",
    "\"\"\""
   ]
  },
  {
   "cell_type": "markdown",
   "metadata": {},
   "source": [
    "## Wages and Education II\n",
    "\n",
    "Now perform a similar statistical test comparing the AdjustedCompensation of those with Bachelor's degrees and those with Doctorates. If you haven't already, be sure to explore the distribution of the AdjustedCompensation feature for any anomalies. "
   ]
  },
  {
   "cell_type": "code",
   "execution_count": 16,
   "metadata": {
    "ExecuteTime": {
     "end_time": "2023-05-05T13:26:57.095421Z",
     "start_time": "2023-05-05T13:26:57.090731Z"
    }
   },
   "outputs": [
    {
     "data": {
      "text/plain": [
       "Ttest_indResult(statistic=-12.009757583777525, pvalue=4.2199881493416054e-32)"
      ]
     },
     "execution_count": 16,
     "metadata": {},
     "output_type": "execute_result"
    }
   ],
   "source": [
    "# H_o = There is no significant difference in between bachelors \n",
    "# and doctoral degrees.\n",
    "\n",
    "# H_o = There is a significant difference in between bachelors \n",
    "# and doctoral degrees.\n",
    "\n",
    "# alpha = 0.05\n",
    "\n",
    "stats.ttest_ind(bach,doc,equal_var=False)\n",
    "\n"
   ]
  },
  {
   "cell_type": "code",
   "execution_count": 17,
   "metadata": {
    "ExecuteTime": {
     "end_time": "2023-05-05T13:26:57.103337Z",
     "start_time": "2023-05-05T13:26:57.097975Z"
    }
   },
   "outputs": [
    {
     "data": {
      "text/plain": [
       "'\\nWe can reject the null hypothesis since our pvalue is less than 0.05. \\nThis means that there is a significant difference between incomes for \\nbachelors degree holder and doctoral degree holders.\\n'"
      ]
     },
     "execution_count": 17,
     "metadata": {},
     "output_type": "execute_result"
    }
   ],
   "source": [
    "\"\"\"\n",
    "We can reject the null hypothesis since our pvalue is less than 0.05. \n",
    "This means that there is a significant difference between incomes for \n",
    "bachelors degree holder and doctoral degree holders.\n",
    "\"\"\""
   ]
  },
  {
   "cell_type": "markdown",
   "metadata": {},
   "source": [
    "## Wages and Education III\n",
    "\n",
    "Remember the multiple comparisons problem; rather than continuing on like this, perform an ANOVA test between the various 'FormalEducation' categories and their relation to 'AdjustedCompensation'."
   ]
  },
  {
   "cell_type": "code",
   "execution_count": 18,
   "metadata": {
    "ExecuteTime": {
     "end_time": "2023-05-05T13:26:57.113633Z",
     "start_time": "2023-05-05T13:26:57.105757Z"
    }
   },
   "outputs": [
    {
     "name": "stdout",
     "output_type": "stream",
     "text": [
      "<class 'pandas.core.frame.DataFrame'>\n",
      "RangeIndex: 4081 entries, 0 to 4080\n",
      "Data columns (total 2 columns):\n",
      " #   Column                Non-Null Count  Dtype  \n",
      "---  ------                --------------  -----  \n",
      " 0   FormalEducation       4081 non-null   object \n",
      " 1   AdjustedCompensation  4081 non-null   float64\n",
      "dtypes: float64(1), object(1)\n",
      "memory usage: 63.9+ KB\n"
     ]
    }
   ],
   "source": [
    "df_clean.info()"
   ]
  },
  {
   "cell_type": "code",
   "execution_count": 19,
   "metadata": {
    "ExecuteTime": {
     "end_time": "2023-05-05T13:26:57.449195Z",
     "start_time": "2023-05-05T13:26:57.117166Z"
    }
   },
   "outputs": [
    {
     "name": "stdout",
     "output_type": "stream",
     "text": [
      "                          sum_sq      df          F        PR(>F)\n",
      "C(FormalEducation)  5.806439e+11     2.0  83.359953  3.293791e-36\n",
      "Residual            1.420266e+13  4078.0        NaN           NaN\n"
     ]
    }
   ],
   "source": [
    "import statsmodels.api as sm\n",
    "from statsmodels.formula.api import ols\n",
    "\n",
    "formula = \"AdjustedCompensation ~ C(FormalEducation)\"\n",
    "lm = ols(formula, df_clean).fit()\n",
    "table = sm.stats.anova_lm(lm, typ=2)\n",
    "print(table)\n",
    "\n",
    "\n"
   ]
  },
  {
   "cell_type": "markdown",
   "metadata": {},
   "source": [
    "## Additional Resources\n",
    "\n",
    "Here's the original source where the data was taken from:  \n",
    "    [Kaggle Machine Learning & Data Science Survey 2017](https://www.kaggle.com/kaggle/kaggle-survey-2017)"
   ]
  },
  {
   "cell_type": "markdown",
   "metadata": {},
   "source": [
    "## Summary\n",
    "\n",
    "In this lab, you practiced conducting actual hypothesis tests on actual data. From this, you saw how dependent results can be on the initial problem formulation, including preprocessing!"
   ]
  }
 ],
 "metadata": {
  "kernelspec": {
   "display_name": "Python (learn-env)",
   "language": "python",
   "name": "learn-env"
  },
  "language_info": {
   "codemirror_mode": {
    "name": "ipython",
    "version": 3
   },
   "file_extension": ".py",
   "mimetype": "text/x-python",
   "name": "python",
   "nbconvert_exporter": "python",
   "pygments_lexer": "ipython3",
   "version": "3.8.5"
  },
  "toc": {
   "base_numbering": 1,
   "nav_menu": {},
   "number_sections": true,
   "sideBar": true,
   "skip_h1_title": false,
   "title_cell": "Table of Contents",
   "title_sidebar": "Contents",
   "toc_cell": false,
   "toc_position": {},
   "toc_section_display": true,
   "toc_window_display": false
  }
 },
 "nbformat": 4,
 "nbformat_minor": 2
}
